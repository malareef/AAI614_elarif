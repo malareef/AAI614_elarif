{
  "nbformat": 4,
  "nbformat_minor": 0,
  "metadata": {
    "colab": {
      "provenance": []
    },
    "kernelspec": {
      "name": "python3",
      "display_name": "Python 3"
    },
    "language_info": {
      "name": "python"
    }
  },
  "cells": [
    {
      "cell_type": "markdown",
      "source": [
        "Colab link:\n",
        "https://colab.research.google.com/drive/1Hx_gua0tjRg0fvYdxM7Fq8faTDkzI57R?usp=sharing"
      ],
      "metadata": {
        "id": "j-LLW_94tX7o"
      }
    },
    {
      "cell_type": "code",
      "execution_count": 1,
      "metadata": {
        "colab": {
          "base_uri": "https://localhost:8080/"
        },
        "id": "r7iYqolFqXvC",
        "outputId": "a1786b11-c7ac-470b-93b3-2de43e7e9f27"
      },
      "outputs": [
        {
          "output_type": "stream",
          "name": "stdout",
          "text": [
            "Cloning into 'AAI614_elarif'...\n",
            "remote: Enumerating objects: 7, done.\u001b[K\n",
            "remote: Counting objects: 100% (7/7), done.\u001b[K\n",
            "remote: Compressing objects: 100% (3/3), done.\u001b[K\n",
            "remote: Total 7 (delta 0), reused 0 (delta 0), pack-reused 0 (from 0)\u001b[K\n",
            "Receiving objects: 100% (7/7), done.\n"
          ]
        }
      ],
      "source": [
        "!git clone https://github.com/malareef/AAI614_elarif.git"
      ]
    },
    {
      "cell_type": "code",
      "source": [
        "!ls AAI614_elarif/"
      ],
      "metadata": {
        "colab": {
          "base_uri": "https://localhost:8080/"
        },
        "id": "hlP8Eh0RrPWE",
        "outputId": "4bc4ae95-5884-441f-b863-ae52a4d78c76"
      },
      "execution_count": 2,
      "outputs": [
        {
          "output_type": "stream",
          "name": "stdout",
          "text": [
            "README.md\n"
          ]
        }
      ]
    },
    {
      "cell_type": "code",
      "source": [
        "%cd AAI614_elarif/\n",
        "!cat README.md"
      ],
      "metadata": {
        "colab": {
          "base_uri": "https://localhost:8080/"
        },
        "id": "6wjLR_hVrbM-",
        "outputId": "d67f5171-2d20-490e-e9ec-3dd49d610671"
      },
      "execution_count": 3,
      "outputs": [
        {
          "output_type": "stream",
          "name": "stdout",
          "text": [
            "/content/AAI614_elarif\n",
            "# Hello,\n",
            "## This is my first GitHub repository.\n"
          ]
        }
      ]
    }
  ]
}