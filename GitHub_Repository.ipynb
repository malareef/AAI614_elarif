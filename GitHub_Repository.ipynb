{
  "nbformat": 4,
  "nbformat_minor": 0,
  "metadata": {
    "colab": {
      "provenance": []
    },
    "kernelspec": {
      "name": "python3",
      "display_name": "Python 3"
    },
    "language_info": {
      "name": "python"
    }
  },
  "cells": [
    {
      "cell_type": "markdown",
      "source": [
        "Colab link:\n",
        "https://colab.research.google.com/drive/1Hx_gua0tjRg0fvYdxM7Fq8faTDkzI57R?usp=sharing"
      ],
      "metadata": {
        "id": "j-LLW_94tX7o"
      }
    },
    {
      "cell_type": "code",
      "execution_count": 4,
      "metadata": {
        "colab": {
          "base_uri": "https://localhost:8080/"
        },
        "id": "r7iYqolFqXvC",
        "outputId": "fee72f5a-a5a3-4659-ca8a-02874ef7c450"
      },
      "outputs": [
        {
          "output_type": "stream",
          "name": "stdout",
          "text": [
            "Cloning into 'AAI614_elarif'...\n",
            "remote: Enumerating objects: 13, done.\u001b[K\n",
            "remote: Counting objects:   7% (1/13)\u001b[K\rremote: Counting objects:  15% (2/13)\u001b[K\rremote: Counting objects:  23% (3/13)\u001b[K\rremote: Counting objects:  30% (4/13)\u001b[K\rremote: Counting objects:  38% (5/13)\u001b[K\rremote: Counting objects:  46% (6/13)\u001b[K\rremote: Counting objects:  53% (7/13)\u001b[K\rremote: Counting objects:  61% (8/13)\u001b[K\rremote: Counting objects:  69% (9/13)\u001b[K\rremote: Counting objects:  76% (10/13)\u001b[K\rremote: Counting objects:  84% (11/13)\u001b[K\rremote: Counting objects:  92% (12/13)\u001b[K\rremote: Counting objects: 100% (13/13)\u001b[K\rremote: Counting objects: 100% (13/13), done.\u001b[K\n",
            "remote: Compressing objects:  11% (1/9)\u001b[K\rremote: Compressing objects:  22% (2/9)\u001b[K\rremote: Compressing objects:  33% (3/9)\u001b[K\rremote: Compressing objects:  44% (4/9)\u001b[K\rremote: Compressing objects:  55% (5/9)\u001b[K\rremote: Compressing objects:  66% (6/9)\u001b[K\rremote: Compressing objects:  77% (7/9)\u001b[K\rremote: Compressing objects:  88% (8/9)\u001b[K\rremote: Compressing objects: 100% (9/9)\u001b[K\rremote: Compressing objects: 100% (9/9), done.\u001b[K\n",
            "remote: Total 13 (delta 1), reused 0 (delta 0), pack-reused 0 (from 0)\u001b[K\n",
            "Receiving objects:   7% (1/13)\rReceiving objects:  15% (2/13)\rReceiving objects:  23% (3/13)\rReceiving objects:  30% (4/13)\rReceiving objects:  38% (5/13)\rReceiving objects:  46% (6/13)\rReceiving objects:  53% (7/13)\rReceiving objects:  61% (8/13)\rReceiving objects:  69% (9/13)\rReceiving objects:  76% (10/13)\rReceiving objects:  84% (11/13)\rReceiving objects:  92% (12/13)\rReceiving objects: 100% (13/13)\rReceiving objects: 100% (13/13), 5.25 KiB | 5.25 MiB/s, done.\n",
            "Resolving deltas:   0% (0/1)\rResolving deltas: 100% (1/1)\rResolving deltas: 100% (1/1), done.\n"
          ]
        }
      ],
      "source": [
        "!git clone https://github.com/malareef/AAI614_elarif.git"
      ]
    },
    {
      "cell_type": "code",
      "source": [
        "!ls AAI614_elarif/"
      ],
      "metadata": {
        "colab": {
          "base_uri": "https://localhost:8080/"
        },
        "id": "hlP8Eh0RrPWE",
        "outputId": "67aa587d-0a90-443f-90c1-25824c8dfe29"
      },
      "execution_count": 5,
      "outputs": [
        {
          "output_type": "stream",
          "name": "stdout",
          "text": [
            "GitHub_Repository.ipynb  README.md\n"
          ]
        }
      ]
    },
    {
      "cell_type": "code",
      "source": [
        "%cd AAI614_elarif/\n",
        "!cat README.md"
      ],
      "metadata": {
        "colab": {
          "base_uri": "https://localhost:8080/"
        },
        "id": "6wjLR_hVrbM-",
        "outputId": "959eff77-364d-456c-c16d-c7a9268436a8"
      },
      "execution_count": 6,
      "outputs": [
        {
          "output_type": "stream",
          "name": "stdout",
          "text": [
            "/content/AAI614_elarif/AAI614_elarif\n",
            "# Hello,\n",
            "## This is my first GitHub repository.\n"
          ]
        }
      ]
    }
  ]
}